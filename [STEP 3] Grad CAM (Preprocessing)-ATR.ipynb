{
 "cells": [
  {
   "cell_type": "code",
   "execution_count": 1,
   "metadata": {},
   "outputs": [],
   "source": [
    "import numpy                    as np\n",
    "import pandas                   as pd\n",
    "import matplotlib.pyplot        as plt\n",
    "import seaborn                  as sns\n",
    "import tensorflow               as tf\n",
    "import tensorflow.keras.backend as K\n",
    "from tensorflow                 import keras"
   ]
  },
  {
   "cell_type": "markdown",
   "metadata": {},
   "source": [
    "## 데이터세트 불러오기"
   ]
  },
  {
   "cell_type": "code",
   "execution_count": 2,
   "metadata": {},
   "outputs": [
    {
     "data": {
      "text/html": [
       "<div>\n",
       "<style scoped>\n",
       "    .dataframe tbody tr th:only-of-type {\n",
       "        vertical-align: middle;\n",
       "    }\n",
       "\n",
       "    .dataframe tbody tr th {\n",
       "        vertical-align: top;\n",
       "    }\n",
       "\n",
       "    .dataframe thead th {\n",
       "        text-align: right;\n",
       "    }\n",
       "</style>\n",
       "<table border=\"1\" class=\"dataframe\">\n",
       "  <thead>\n",
       "    <tr style=\"text-align: right;\">\n",
       "      <th></th>\n",
       "      <th>ATR</th>\n",
       "      <th>Trans</th>\n",
       "    </tr>\n",
       "  </thead>\n",
       "  <tbody>\n",
       "    <tr>\n",
       "      <th>0c (Fast)</th>\n",
       "      <td>25</td>\n",
       "      <td>27</td>\n",
       "    </tr>\n",
       "    <tr>\n",
       "      <th>120c (Fast)</th>\n",
       "      <td>23</td>\n",
       "      <td>23</td>\n",
       "    </tr>\n",
       "    <tr>\n",
       "      <th>180c (Fast)</th>\n",
       "      <td>20</td>\n",
       "      <td>20</td>\n",
       "    </tr>\n",
       "    <tr>\n",
       "      <th>0c (Slow)</th>\n",
       "      <td>23</td>\n",
       "      <td>25</td>\n",
       "    </tr>\n",
       "    <tr>\n",
       "      <th>120c (Slow)</th>\n",
       "      <td>23</td>\n",
       "      <td>24</td>\n",
       "    </tr>\n",
       "    <tr>\n",
       "      <th>180c (Slow)</th>\n",
       "      <td>20</td>\n",
       "      <td>19</td>\n",
       "    </tr>\n",
       "    <tr>\n",
       "      <th>Sum x 2</th>\n",
       "      <td>268</td>\n",
       "      <td>276</td>\n",
       "    </tr>\n",
       "  </tbody>\n",
       "</table>\n",
       "</div>"
      ],
      "text/plain": [
       "             ATR  Trans\n",
       "0c (Fast)     25     27\n",
       "120c (Fast)   23     23\n",
       "180c (Fast)   20     20\n",
       "0c (Slow)     23     25\n",
       "120c (Slow)   23     24\n",
       "180c (Slow)   20     19\n",
       "Sum x 2      268    276"
      ]
     },
     "execution_count": 2,
     "metadata": {},
     "output_type": "execute_result"
    }
   ],
   "source": [
    "NoOfData = pd.read_csv('Data/NoOfData.csv', index_col=0)\n",
    "NoOfData"
   ]
  },
  {
   "cell_type": "code",
   "execution_count": 3,
   "metadata": {},
   "outputs": [
    {
     "name": "stdout",
     "output_type": "stream",
     "text": [
      "ATR   데이터 - 0cycle:  96 개 , 120cycle: 92 개 , 180cycle: 80 개\n"
     ]
    }
   ],
   "source": [
    "Num_ATR_0c     = 2 * (NoOfData.iloc[0,0] + NoOfData.iloc[3,0])\n",
    "Num_ATR_120c   = 2 * (NoOfData.iloc[1,0] + NoOfData.iloc[4,0])\n",
    "Num_ATR_180c   = 2 * (NoOfData.iloc[2,0] + NoOfData.iloc[5,0])\n",
    "\n",
    "print(\"ATR   데이터 - 0cycle:  %d 개 , 120cycle: %d 개 , 180cycle: %d 개\"%(Num_ATR_0c  , Num_ATR_120c  , Num_ATR_180c ))"
   ]
  },
  {
   "cell_type": "code",
   "execution_count": 4,
   "metadata": {},
   "outputs": [
    {
     "name": "stdout",
     "output_type": "stream",
     "text": [
      "(268, 1739, 1) (268, 1739, 1) (268, 1739, 1)\n"
     ]
    }
   ],
   "source": [
    "ATR_SG_0D = np.array(pd.read_csv('Data/ATR/SG_ATR_0D', header=None))\n",
    "ATR_SG_1D = np.array(pd.read_csv('Data/ATR/SG_ATR_1D', header=None))\n",
    "ATR_SG_2D = np.array(pd.read_csv('Data/ATR/SG_ATR_2D', header=None))\n",
    "\n",
    "ATR_SG_0D = ATR_SG_0D.reshape(ATR_SG_0D.shape[0] , ATR_SG_0D.shape[1], 1)\n",
    "ATR_SG_1D = ATR_SG_1D.reshape(ATR_SG_1D.shape[0] , ATR_SG_1D.shape[1], 1)\n",
    "ATR_SG_2D = ATR_SG_2D.reshape(ATR_SG_2D.shape[0] , ATR_SG_2D.shape[1], 1)\n",
    "\n",
    "print(ATR_SG_0D.shape, ATR_SG_1D.shape, ATR_SG_2D.shape)"
   ]
  },
  {
   "cell_type": "code",
   "execution_count": 5,
   "metadata": {},
   "outputs": [
    {
     "data": {
      "text/plain": [
       "(268, 3)"
      ]
     },
     "execution_count": 5,
     "metadata": {},
     "output_type": "execute_result"
    }
   ],
   "source": [
    "ATR_0c_label   = np.zeros((Num_ATR_0c   , 3))\n",
    "ATR_120c_label = np.zeros((Num_ATR_120c , 3))\n",
    "ATR_180c_label = np.zeros((Num_ATR_180c , 3))\n",
    "\n",
    "ATR_0c_label[:]   = [1,0,0]\n",
    "ATR_120c_label[:] = [0,1,0]\n",
    "ATR_180c_label[:] = [0,0,1]\n",
    "\n",
    "Labl_ATR = np.concatenate([ATR_0c_label, ATR_120c_label, ATR_180c_label], axis=0)\n",
    "Labl_ATR.shape"
   ]
  },
  {
   "cell_type": "markdown",
   "metadata": {},
   "source": [
    ".\n",
    "\n",
    ".\n",
    "\n",
    ".\n",
    "\n",
    ".\n",
    "\n",
    "."
   ]
  },
  {
   "cell_type": "markdown",
   "metadata": {},
   "source": [
    "## 1D-CNN 모델 중 최고성능(100%) 모델 및 마지막 컨볼루션 레이어정보 불러오기"
   ]
  },
  {
   "cell_type": "code",
   "execution_count": 6,
   "metadata": {},
   "outputs": [
    {
     "data": {
      "text/html": [
       "<div>\n",
       "<style scoped>\n",
       "    .dataframe tbody tr th:only-of-type {\n",
       "        vertical-align: middle;\n",
       "    }\n",
       "\n",
       "    .dataframe tbody tr th {\n",
       "        vertical-align: top;\n",
       "    }\n",
       "\n",
       "    .dataframe thead th {\n",
       "        text-align: right;\n",
       "    }\n",
       "</style>\n",
       "<table border=\"1\" class=\"dataframe\">\n",
       "  <thead>\n",
       "    <tr style=\"text-align: right;\">\n",
       "      <th></th>\n",
       "      <th>Case</th>\n",
       "      <th>Kernel_S</th>\n",
       "      <th>Dense_N</th>\n",
       "      <th>Learn_R</th>\n",
       "      <th>Accuracy</th>\n",
       "    </tr>\n",
       "  </thead>\n",
       "  <tbody>\n",
       "    <tr>\n",
       "      <th>1</th>\n",
       "      <td>1.0</td>\n",
       "      <td>3.0</td>\n",
       "      <td>12.0</td>\n",
       "      <td>0.001</td>\n",
       "      <td>1.0</td>\n",
       "    </tr>\n",
       "    <tr>\n",
       "      <th>2</th>\n",
       "      <td>2.0</td>\n",
       "      <td>3.0</td>\n",
       "      <td>18.0</td>\n",
       "      <td>0.001</td>\n",
       "      <td>1.0</td>\n",
       "    </tr>\n",
       "    <tr>\n",
       "      <th>3</th>\n",
       "      <td>3.0</td>\n",
       "      <td>3.0</td>\n",
       "      <td>21.0</td>\n",
       "      <td>0.001</td>\n",
       "      <td>1.0</td>\n",
       "    </tr>\n",
       "    <tr>\n",
       "      <th>6</th>\n",
       "      <td>6.0</td>\n",
       "      <td>4.0</td>\n",
       "      <td>18.0</td>\n",
       "      <td>0.001</td>\n",
       "      <td>1.0</td>\n",
       "    </tr>\n",
       "    <tr>\n",
       "      <th>7</th>\n",
       "      <td>7.0</td>\n",
       "      <td>4.0</td>\n",
       "      <td>21.0</td>\n",
       "      <td>0.001</td>\n",
       "      <td>1.0</td>\n",
       "    </tr>\n",
       "    <tr>\n",
       "      <th>8</th>\n",
       "      <td>8.0</td>\n",
       "      <td>5.0</td>\n",
       "      <td>6.0</td>\n",
       "      <td>0.001</td>\n",
       "      <td>1.0</td>\n",
       "    </tr>\n",
       "    <tr>\n",
       "      <th>9</th>\n",
       "      <td>9.0</td>\n",
       "      <td>5.0</td>\n",
       "      <td>12.0</td>\n",
       "      <td>0.001</td>\n",
       "      <td>1.0</td>\n",
       "    </tr>\n",
       "    <tr>\n",
       "      <th>17</th>\n",
       "      <td>17.0</td>\n",
       "      <td>20.0</td>\n",
       "      <td>12.0</td>\n",
       "      <td>0.001</td>\n",
       "      <td>1.0</td>\n",
       "    </tr>\n",
       "  </tbody>\n",
       "</table>\n",
       "</div>"
      ],
      "text/plain": [
       "    Case  Kernel_S  Dense_N  Learn_R  Accuracy\n",
       "1    1.0       3.0     12.0    0.001       1.0\n",
       "2    2.0       3.0     18.0    0.001       1.0\n",
       "3    3.0       3.0     21.0    0.001       1.0\n",
       "6    6.0       4.0     18.0    0.001       1.0\n",
       "7    7.0       4.0     21.0    0.001       1.0\n",
       "8    8.0       5.0      6.0    0.001       1.0\n",
       "9    9.0       5.0     12.0    0.001       1.0\n",
       "17  17.0      20.0     12.0    0.001       1.0"
      ]
     },
     "execution_count": 6,
     "metadata": {},
     "output_type": "execute_result"
    }
   ],
   "source": [
    "ATR_gridSearch_results_0D = pd.read_csv('[Grid search]/Training_result_ATR_0D.csv')\n",
    "ATR_0D_bestCases = ATR_gridSearch_results_0D.loc[ATR_gridSearch_results_0D['Accuracy'] == 1]\n",
    "ATR_0D_bestCases"
   ]
  },
  {
   "cell_type": "code",
   "execution_count": 7,
   "metadata": {},
   "outputs": [
    {
     "data": {
      "text/html": [
       "<div>\n",
       "<style scoped>\n",
       "    .dataframe tbody tr th:only-of-type {\n",
       "        vertical-align: middle;\n",
       "    }\n",
       "\n",
       "    .dataframe tbody tr th {\n",
       "        vertical-align: top;\n",
       "    }\n",
       "\n",
       "    .dataframe thead th {\n",
       "        text-align: right;\n",
       "    }\n",
       "</style>\n",
       "<table border=\"1\" class=\"dataframe\">\n",
       "  <thead>\n",
       "    <tr style=\"text-align: right;\">\n",
       "      <th></th>\n",
       "      <th>Case</th>\n",
       "      <th>Kernel_S</th>\n",
       "      <th>Dense_N</th>\n",
       "      <th>Learn_R</th>\n",
       "      <th>Accuracy</th>\n",
       "    </tr>\n",
       "  </thead>\n",
       "  <tbody>\n",
       "    <tr>\n",
       "      <th>0</th>\n",
       "      <td>0.0</td>\n",
       "      <td>3.0</td>\n",
       "      <td>6.0</td>\n",
       "      <td>0.001</td>\n",
       "      <td>1.0</td>\n",
       "    </tr>\n",
       "    <tr>\n",
       "      <th>1</th>\n",
       "      <td>1.0</td>\n",
       "      <td>3.0</td>\n",
       "      <td>12.0</td>\n",
       "      <td>0.001</td>\n",
       "      <td>1.0</td>\n",
       "    </tr>\n",
       "    <tr>\n",
       "      <th>2</th>\n",
       "      <td>2.0</td>\n",
       "      <td>3.0</td>\n",
       "      <td>18.0</td>\n",
       "      <td>0.001</td>\n",
       "      <td>1.0</td>\n",
       "    </tr>\n",
       "    <tr>\n",
       "      <th>5</th>\n",
       "      <td>5.0</td>\n",
       "      <td>4.0</td>\n",
       "      <td>12.0</td>\n",
       "      <td>0.001</td>\n",
       "      <td>1.0</td>\n",
       "    </tr>\n",
       "    <tr>\n",
       "      <th>6</th>\n",
       "      <td>6.0</td>\n",
       "      <td>4.0</td>\n",
       "      <td>18.0</td>\n",
       "      <td>0.001</td>\n",
       "      <td>1.0</td>\n",
       "    </tr>\n",
       "    <tr>\n",
       "      <th>7</th>\n",
       "      <td>7.0</td>\n",
       "      <td>4.0</td>\n",
       "      <td>21.0</td>\n",
       "      <td>0.001</td>\n",
       "      <td>1.0</td>\n",
       "    </tr>\n",
       "    <tr>\n",
       "      <th>9</th>\n",
       "      <td>9.0</td>\n",
       "      <td>5.0</td>\n",
       "      <td>12.0</td>\n",
       "      <td>0.001</td>\n",
       "      <td>1.0</td>\n",
       "    </tr>\n",
       "    <tr>\n",
       "      <th>10</th>\n",
       "      <td>10.0</td>\n",
       "      <td>5.0</td>\n",
       "      <td>18.0</td>\n",
       "      <td>0.001</td>\n",
       "      <td>1.0</td>\n",
       "    </tr>\n",
       "    <tr>\n",
       "      <th>11</th>\n",
       "      <td>11.0</td>\n",
       "      <td>5.0</td>\n",
       "      <td>21.0</td>\n",
       "      <td>0.001</td>\n",
       "      <td>1.0</td>\n",
       "    </tr>\n",
       "    <tr>\n",
       "      <th>13</th>\n",
       "      <td>13.0</td>\n",
       "      <td>10.0</td>\n",
       "      <td>12.0</td>\n",
       "      <td>0.001</td>\n",
       "      <td>1.0</td>\n",
       "    </tr>\n",
       "  </tbody>\n",
       "</table>\n",
       "</div>"
      ],
      "text/plain": [
       "    Case  Kernel_S  Dense_N  Learn_R  Accuracy\n",
       "0    0.0       3.0      6.0    0.001       1.0\n",
       "1    1.0       3.0     12.0    0.001       1.0\n",
       "2    2.0       3.0     18.0    0.001       1.0\n",
       "5    5.0       4.0     12.0    0.001       1.0\n",
       "6    6.0       4.0     18.0    0.001       1.0\n",
       "7    7.0       4.0     21.0    0.001       1.0\n",
       "9    9.0       5.0     12.0    0.001       1.0\n",
       "10  10.0       5.0     18.0    0.001       1.0\n",
       "11  11.0       5.0     21.0    0.001       1.0\n",
       "13  13.0      10.0     12.0    0.001       1.0"
      ]
     },
     "execution_count": 7,
     "metadata": {},
     "output_type": "execute_result"
    }
   ],
   "source": [
    "ATR_gridSearch_results_1D = pd.read_csv('[Grid search]/Training_result_ATR_1D.csv')\n",
    "ATR_1D_bestCases = ATR_gridSearch_results_1D.loc[ATR_gridSearch_results_1D['Accuracy'] == 1]\n",
    "ATR_1D_bestCases"
   ]
  },
  {
   "cell_type": "code",
   "execution_count": 8,
   "metadata": {},
   "outputs": [
    {
     "data": {
      "text/html": [
       "<div>\n",
       "<style scoped>\n",
       "    .dataframe tbody tr th:only-of-type {\n",
       "        vertical-align: middle;\n",
       "    }\n",
       "\n",
       "    .dataframe tbody tr th {\n",
       "        vertical-align: top;\n",
       "    }\n",
       "\n",
       "    .dataframe thead th {\n",
       "        text-align: right;\n",
       "    }\n",
       "</style>\n",
       "<table border=\"1\" class=\"dataframe\">\n",
       "  <thead>\n",
       "    <tr style=\"text-align: right;\">\n",
       "      <th></th>\n",
       "      <th>Case</th>\n",
       "      <th>Kernel_S</th>\n",
       "      <th>Dense_N</th>\n",
       "      <th>Learn_R</th>\n",
       "      <th>Accuracy</th>\n",
       "    </tr>\n",
       "  </thead>\n",
       "  <tbody>\n",
       "    <tr>\n",
       "      <th>1</th>\n",
       "      <td>1.0</td>\n",
       "      <td>3.0</td>\n",
       "      <td>12.0</td>\n",
       "      <td>0.001</td>\n",
       "      <td>1.0</td>\n",
       "    </tr>\n",
       "    <tr>\n",
       "      <th>2</th>\n",
       "      <td>2.0</td>\n",
       "      <td>3.0</td>\n",
       "      <td>18.0</td>\n",
       "      <td>0.001</td>\n",
       "      <td>1.0</td>\n",
       "    </tr>\n",
       "    <tr>\n",
       "      <th>3</th>\n",
       "      <td>3.0</td>\n",
       "      <td>3.0</td>\n",
       "      <td>21.0</td>\n",
       "      <td>0.001</td>\n",
       "      <td>1.0</td>\n",
       "    </tr>\n",
       "    <tr>\n",
       "      <th>4</th>\n",
       "      <td>4.0</td>\n",
       "      <td>4.0</td>\n",
       "      <td>6.0</td>\n",
       "      <td>0.001</td>\n",
       "      <td>1.0</td>\n",
       "    </tr>\n",
       "    <tr>\n",
       "      <th>6</th>\n",
       "      <td>6.0</td>\n",
       "      <td>4.0</td>\n",
       "      <td>18.0</td>\n",
       "      <td>0.001</td>\n",
       "      <td>1.0</td>\n",
       "    </tr>\n",
       "    <tr>\n",
       "      <th>7</th>\n",
       "      <td>7.0</td>\n",
       "      <td>4.0</td>\n",
       "      <td>21.0</td>\n",
       "      <td>0.001</td>\n",
       "      <td>1.0</td>\n",
       "    </tr>\n",
       "    <tr>\n",
       "      <th>9</th>\n",
       "      <td>9.0</td>\n",
       "      <td>5.0</td>\n",
       "      <td>12.0</td>\n",
       "      <td>0.001</td>\n",
       "      <td>1.0</td>\n",
       "    </tr>\n",
       "    <tr>\n",
       "      <th>11</th>\n",
       "      <td>11.0</td>\n",
       "      <td>5.0</td>\n",
       "      <td>21.0</td>\n",
       "      <td>0.001</td>\n",
       "      <td>1.0</td>\n",
       "    </tr>\n",
       "    <tr>\n",
       "      <th>13</th>\n",
       "      <td>13.0</td>\n",
       "      <td>10.0</td>\n",
       "      <td>12.0</td>\n",
       "      <td>0.001</td>\n",
       "      <td>1.0</td>\n",
       "    </tr>\n",
       "    <tr>\n",
       "      <th>14</th>\n",
       "      <td>14.0</td>\n",
       "      <td>10.0</td>\n",
       "      <td>18.0</td>\n",
       "      <td>0.001</td>\n",
       "      <td>1.0</td>\n",
       "    </tr>\n",
       "  </tbody>\n",
       "</table>\n",
       "</div>"
      ],
      "text/plain": [
       "    Case  Kernel_S  Dense_N  Learn_R  Accuracy\n",
       "1    1.0       3.0     12.0    0.001       1.0\n",
       "2    2.0       3.0     18.0    0.001       1.0\n",
       "3    3.0       3.0     21.0    0.001       1.0\n",
       "4    4.0       4.0      6.0    0.001       1.0\n",
       "6    6.0       4.0     18.0    0.001       1.0\n",
       "7    7.0       4.0     21.0    0.001       1.0\n",
       "9    9.0       5.0     12.0    0.001       1.0\n",
       "11  11.0       5.0     21.0    0.001       1.0\n",
       "13  13.0      10.0     12.0    0.001       1.0\n",
       "14  14.0      10.0     18.0    0.001       1.0"
      ]
     },
     "execution_count": 8,
     "metadata": {},
     "output_type": "execute_result"
    }
   ],
   "source": [
    "ATR_gridSearch_results_2D = pd.read_csv('[Grid search]/Training_result_ATR_2D.csv')\n",
    "ATR_2D_bestCases = ATR_gridSearch_results_2D.loc[ATR_gridSearch_results_2D['Accuracy'] == 1]\n",
    "ATR_2D_bestCases"
   ]
  },
  {
   "cell_type": "code",
   "execution_count": 9,
   "metadata": {},
   "outputs": [
    {
     "data": {
      "text/plain": [
       "(8, 10, 10)"
      ]
     },
     "execution_count": 9,
     "metadata": {},
     "output_type": "execute_result"
    }
   ],
   "source": [
    "for SG_D in ['0D', '1D', '2D']:\n",
    "    exec(\"bestCases_\"+SG_D+\" = np.array(ATR_\"+SG_D+\"_bestCases.iloc[:,0], dtype=np.int)\")\n",
    "\n",
    "bestCases_0D.shape[0], bestCases_1D.shape[0], bestCases_2D.shape[0]"
   ]
  },
  {
   "cell_type": "code",
   "execution_count": 10,
   "metadata": {},
   "outputs": [],
   "source": [
    "for SG_D in ['0D', '1D', '2D']:\n",
    "    exec(\"temp_bestCases = bestCases_\" +SG_D)\n",
    "    \n",
    "    for i in range(temp_bestCases.shape[0]):\n",
    "        temp_model = keras.models.load_model(\"[CNN_models]/CNN_ATR_\" +SG_D+ \"_case%d.h5\"%(temp_bestCases[i]+1))\n",
    "        temp_last_conv_layer = [layer.name for layer in temp_model.layers][-5]\n",
    "        exec(\"model_ATR_\" +SG_D+ \"_%d       = temp_model\"%(i+1))\n",
    "        exec(\"last_conv_layer_\" +SG_D+ \"_%d = temp_last_conv_layer\"%(i+1))"
   ]
  },
  {
   "cell_type": "code",
   "execution_count": 11,
   "metadata": {},
   "outputs": [
    {
     "name": "stdout",
     "output_type": "stream",
     "text": [
      "Model: \"sequential_43\"\n",
      "_________________________________________________________________\n",
      "Layer (type)                 Output Shape              Param #   \n",
      "=================================================================\n",
      "conv1d_126 (Conv1D)          (None, 1739, 4)           16        \n",
      "_________________________________________________________________\n",
      "max_pooling1d_126 (MaxPoolin (None, 870, 4)            0         \n",
      "_________________________________________________________________\n",
      "conv1d_127 (Conv1D)          (None, 870, 8)            104       \n",
      "_________________________________________________________________\n",
      "max_pooling1d_127 (MaxPoolin (None, 435, 8)            0         \n",
      "_________________________________________________________________\n",
      "conv1d_128 (Conv1D)          (None, 435, 16)           400       \n",
      "_________________________________________________________________\n",
      "max_pooling1d_128 (MaxPoolin (None, 218, 16)           0         \n",
      "_________________________________________________________________\n",
      "flatten_42 (Flatten)         (None, 3488)              0         \n",
      "_________________________________________________________________\n",
      "dense_84 (Dense)             (None, 12)                41868     \n",
      "_________________________________________________________________\n",
      "dense_85 (Dense)             (None, 3)                 39        \n",
      "=================================================================\n",
      "Total params: 42,427\n",
      "Trainable params: 42,427\n",
      "Non-trainable params: 0\n",
      "_________________________________________________________________\n"
     ]
    }
   ],
   "source": [
    "model_ATR_0D_1.summary()"
   ]
  },
  {
   "cell_type": "markdown",
   "metadata": {},
   "source": [
    "## 전체 데이터(학습+검증)에 대한 분류 정확도 확인"
   ]
  },
  {
   "cell_type": "code",
   "execution_count": 12,
   "metadata": {},
   "outputs": [],
   "source": [
    "Accuracy_check_0D = pd.DataFrame(np.zeros((bestCases_0D.shape[0], 4)), columns=['Case_0D', 'Kernel_S', 'Hidden_N', 'Total_acc'])\n",
    "Accuracy_check_1D = pd.DataFrame(np.zeros((bestCases_1D.shape[0], 4)), columns=['Case_1D', 'Kernel_S', 'Hidden_N', 'Total_acc'])\n",
    "Accuracy_check_2D = pd.DataFrame(np.zeros((bestCases_2D.shape[0], 4)), columns=['Case_2D', 'Kernel_S', 'Hidden_N', 'Total_acc'])\n",
    "\n",
    "for SG_D in ['0D', '1D', '2D']:\n",
    "    exec(\"temp_bestCases = ATR_\"+SG_D+\"_bestCases\")\n",
    "    exec(\"temp_data  = ATR_SG_\" +SG_D)\n",
    "    exec(\"temp_Accuracy_check = Accuracy_check_\" +SG_D)\n",
    "    \n",
    "    for i in range(temp_bestCases.shape[0]):\n",
    "        exec(\"temp_model = model_ATR_\" +SG_D+ \"_%d\"%(i+1))\n",
    "        Loss, Accuracy = temp_model.evaluate(temp_data,  Labl_ATR, verbose=0)\n",
    "        temp_Accuracy_check.iloc[i,0] = temp_bestCases.iloc[i,0]\n",
    "        temp_Accuracy_check.iloc[i,1] = temp_bestCases.iloc[i,1]\n",
    "        temp_Accuracy_check.iloc[i,2] = temp_bestCases.iloc[i,2]\n",
    "        temp_Accuracy_check.iloc[i,3] = Accuracy"
   ]
  },
  {
   "cell_type": "code",
   "execution_count": 17,
   "metadata": {},
   "outputs": [
    {
     "data": {
      "text/html": [
       "<div>\n",
       "<style scoped>\n",
       "    .dataframe tbody tr th:only-of-type {\n",
       "        vertical-align: middle;\n",
       "    }\n",
       "\n",
       "    .dataframe tbody tr th {\n",
       "        vertical-align: top;\n",
       "    }\n",
       "\n",
       "    .dataframe thead th {\n",
       "        text-align: right;\n",
       "    }\n",
       "</style>\n",
       "<table border=\"1\" class=\"dataframe\">\n",
       "  <thead>\n",
       "    <tr style=\"text-align: right;\">\n",
       "      <th></th>\n",
       "      <th>Case_0D</th>\n",
       "      <th>Kernel_S</th>\n",
       "      <th>Hidden_N</th>\n",
       "      <th>Total_acc</th>\n",
       "    </tr>\n",
       "  </thead>\n",
       "  <tbody>\n",
       "    <tr>\n",
       "      <th>0</th>\n",
       "      <td>1.0</td>\n",
       "      <td>3.0</td>\n",
       "      <td>12.0</td>\n",
       "      <td>1.000000</td>\n",
       "    </tr>\n",
       "    <tr>\n",
       "      <th>1</th>\n",
       "      <td>2.0</td>\n",
       "      <td>3.0</td>\n",
       "      <td>18.0</td>\n",
       "      <td>1.000000</td>\n",
       "    </tr>\n",
       "    <tr>\n",
       "      <th>2</th>\n",
       "      <td>3.0</td>\n",
       "      <td>3.0</td>\n",
       "      <td>21.0</td>\n",
       "      <td>1.000000</td>\n",
       "    </tr>\n",
       "    <tr>\n",
       "      <th>3</th>\n",
       "      <td>6.0</td>\n",
       "      <td>4.0</td>\n",
       "      <td>18.0</td>\n",
       "      <td>1.000000</td>\n",
       "    </tr>\n",
       "    <tr>\n",
       "      <th>4</th>\n",
       "      <td>7.0</td>\n",
       "      <td>4.0</td>\n",
       "      <td>21.0</td>\n",
       "      <td>1.000000</td>\n",
       "    </tr>\n",
       "    <tr>\n",
       "      <th>5</th>\n",
       "      <td>8.0</td>\n",
       "      <td>5.0</td>\n",
       "      <td>6.0</td>\n",
       "      <td>0.996269</td>\n",
       "    </tr>\n",
       "    <tr>\n",
       "      <th>6</th>\n",
       "      <td>9.0</td>\n",
       "      <td>5.0</td>\n",
       "      <td>12.0</td>\n",
       "      <td>1.000000</td>\n",
       "    </tr>\n",
       "    <tr>\n",
       "      <th>7</th>\n",
       "      <td>17.0</td>\n",
       "      <td>20.0</td>\n",
       "      <td>12.0</td>\n",
       "      <td>1.000000</td>\n",
       "    </tr>\n",
       "  </tbody>\n",
       "</table>\n",
       "</div>"
      ],
      "text/plain": [
       "   Case_0D  Kernel_S  Hidden_N  Total_acc\n",
       "0      1.0       3.0      12.0   1.000000\n",
       "1      2.0       3.0      18.0   1.000000\n",
       "2      3.0       3.0      21.0   1.000000\n",
       "3      6.0       4.0      18.0   1.000000\n",
       "4      7.0       4.0      21.0   1.000000\n",
       "5      8.0       5.0       6.0   0.996269\n",
       "6      9.0       5.0      12.0   1.000000\n",
       "7     17.0      20.0      12.0   1.000000"
      ]
     },
     "execution_count": 17,
     "metadata": {},
     "output_type": "execute_result"
    }
   ],
   "source": [
    "Accuracy_check_0D"
   ]
  },
  {
   "cell_type": "markdown",
   "metadata": {},
   "source": [
    ".\n",
    "\n",
    ".\n",
    "\n",
    ".\n",
    "\n",
    ".\n",
    "\n",
    "."
   ]
  },
  {
   "cell_type": "markdown",
   "metadata": {},
   "source": [
    "## Grad CAM 추출 및 시각화"
   ]
  },
  {
   "cell_type": "markdown",
   "metadata": {},
   "source": [
    "#### Grad CAM 함수 정의"
   ]
  },
  {
   "cell_type": "code",
   "execution_count": 18,
   "metadata": {},
   "outputs": [],
   "source": [
    "def make_gradcam_heatmap(data_array, model, last_conv_layer_name, pred_index=None):\n",
    "\n",
    "    grad_model = tf.keras.models.Model([model.inputs], [model.get_layer(last_conv_layer_name).output, model.output])\n",
    "#     grad_model.layers[-1].activation = tf.keras.activations.linear\n",
    "\n",
    "    with tf.GradientTape() as tape:\n",
    "        last_conv_layer_output, preds = grad_model(data_array)\n",
    "        if pred_index is None:\n",
    "            pred_index = tf.argmax(preds[0])\n",
    "        class_channel  = preds[:, pred_index]\n",
    "\n",
    "    grads        = tape.gradient(class_channel, last_conv_layer_output)\n",
    "    pooled_grads = tf.reduce_mean(grads, axis=(0, 1))\n",
    "    \n",
    "    last_conv_layer_output = last_conv_layer_output[0]\n",
    "    heatmap = last_conv_layer_output @ pooled_grads[..., tf.newaxis]\n",
    "    heatmap = tf.squeeze(heatmap)\n",
    "    heatmap = tf.maximum(heatmap, 0) / tf.math.reduce_max(heatmap)\n",
    "    \n",
    "    return heatmap.numpy()"
   ]
  },
  {
   "cell_type": "markdown",
   "metadata": {},
   "source": [
    "#### Grad CAM 추출"
   ]
  },
  {
   "cell_type": "code",
   "execution_count": 19,
   "metadata": {},
   "outputs": [],
   "source": [
    "for SG_D in ['0D', '1D', '2D']:\n",
    "    exec(\"temp_bestCases = bestCases_\"+SG_D)\n",
    "    exec(\"temp_data  = ATR_SG_\" +SG_D)  \n",
    "    \n",
    "    for i in range(len(temp_bestCases)):\n",
    "        exec(\"temp_model           = model_ATR_\"       +SG_D+ \"_%d\"%(i+1))\n",
    "        exec(\"temp_last_conv_layer = last_conv_layer_\" +SG_D+ \"_%d\"%(i+1))\n",
    "        last_conv_layer_outshape = [layer.output.shape[1] for layer in temp_model.layers][-5]\n",
    "        \n",
    "        temp_grad_CAMs = np.zeros((temp_data.shape[0] , last_conv_layer_outshape))\n",
    "        \n",
    "        for j in range(temp_data.shape[0]):\n",
    "\n",
    "            temp_dataSample = temp_data[j]\n",
    "            temp_dataSample = temp_dataSample.reshape(1, temp_dataSample.shape[0], temp_dataSample.shape[1])\n",
    "\n",
    "            temp_grad_cam   = make_gradcam_heatmap(temp_dataSample, temp_model, temp_last_conv_layer)\n",
    "\n",
    "            temp_grad_CAMs[j] = temp_grad_cam\n",
    "        \n",
    "        exec(\"grad_CAMs_ATR_\" +SG_D+ \"_%d = temp_grad_CAMs\"%(i+1))\n",
    "        \n",
    "        temp_grad_CAMs_0c   = temp_grad_CAMs[0 : Num_ATR_0c]\n",
    "        temp_grad_CAMs_120c = temp_grad_CAMs[Num_ATR_0c : Num_ATR_0c+Num_ATR_120c]\n",
    "        temp_grad_CAMs_180c = temp_grad_CAMs[Num_ATR_0c+Num_ATR_120c : Num_ATR_0c+Num_ATR_120c+Num_ATR_180c]\n",
    "        \n",
    "        exec(\"grad_CAMs_ATR_\" +SG_D+ \"_%d_0c   = temp_grad_CAMs_0c  \"%(i+1))\n",
    "        exec(\"grad_CAMs_ATR_\" +SG_D+ \"_%d_120c = temp_grad_CAMs_120c\"%(i+1))\n",
    "        exec(\"grad_CAMs_ATR_\" +SG_D+ \"_%d_180c = temp_grad_CAMs_180c\"%(i+1))\n",
    "        \n",
    "        temp_grad_CAMs_0c_inv   = temp_grad_CAMs_0c[:, ::-1]\n",
    "        temp_grad_CAMs_120c_inv = temp_grad_CAMs_120c[:, ::-1]\n",
    "        temp_grad_CAMs_180c_inv = temp_grad_CAMs_180c[:, ::-1]\n",
    "        \n",
    "        exec(\"grad_CAMs_ATR_\" +SG_D+ \"_%d_0c_inv   = temp_grad_CAMs_0c_inv  \"%(i+1))\n",
    "        exec(\"grad_CAMs_ATR_\" +SG_D+ \"_%d_120c_inv = temp_grad_CAMs_120c_inv\"%(i+1))\n",
    "        exec(\"grad_CAMs_ATR_\" +SG_D+ \"_%d_180c_inv = temp_grad_CAMs_180c_inv\"%(i+1))      "
   ]
  },
  {
   "cell_type": "code",
   "execution_count": 20,
   "metadata": {},
   "outputs": [
    {
     "data": {
      "text/plain": [
       "((96, 435), (92, 435), (80, 435))"
      ]
     },
     "execution_count": 20,
     "metadata": {},
     "output_type": "execute_result"
    }
   ],
   "source": [
    "grad_CAMs_ATR_2D_1_0c.shape, grad_CAMs_ATR_2D_1_120c.shape, grad_CAMs_ATR_2D_1_180c_inv.shape"
   ]
  },
  {
   "cell_type": "markdown",
   "metadata": {},
   "source": [
    "#### 동일 조건별로 Grad CAM 평균 계산"
   ]
  },
  {
   "cell_type": "code",
   "execution_count": 21,
   "metadata": {},
   "outputs": [],
   "source": [
    "for SG_D in ['0D', '1D', '2D']:\n",
    "    exec(\"temp_bestCases = bestCases_\"+SG_D)\n",
    "    \n",
    "    for cycle in ['0c', '120c', '180c']:\n",
    "        exec(\"temp_grad_CAMs_avg     = np.zeros((grad_CAMs_ATR_\"+SG_D+\"_1_\"+cycle+\".shape))\")\n",
    "        exec(\"temp_grad_CAMs_avg_inv = np.zeros((grad_CAMs_ATR_\"+SG_D+\"_1_\"+cycle+\".shape))\")\n",
    "   \n",
    "        for i in range(len(temp_bestCases)):\n",
    "            exec(\"temp_grad_CAMs = grad_CAMs_ATR_\"+SG_D+\"_%d_\"%(i+1)+cycle)\n",
    "            exec(\"temp_grad_CAMs_inv = grad_CAMs_ATR_\"+SG_D+\"_%d_\"%(i+1)+cycle+ \"_inv\")\n",
    "            \n",
    "            IsNAN_1 = np.array(np.where(np.isnan(temp_grad_CAMs)==True))\n",
    "            IsNAN_2 = np.array(np.where(np.isnan(temp_grad_CAMs_inv)==True))\n",
    "            \n",
    "            NaN_cnt = 0\n",
    "            \n",
    "            if IsNAN_1.shape[1] == 0 and IsNAN_2.shape[1] == 0:\n",
    "                temp_grad_CAMs_avg = np.add(temp_grad_CAMs_avg, temp_grad_CAMs)\n",
    "                temp_grad_CAMs_avg_inv = np.add(temp_grad_CAMs_avg_inv, temp_grad_CAMs_inv)\n",
    "            else:\n",
    "                NaN_cnt +=1\n",
    "     \n",
    "        exec(\"grad_CAMs_ATR_\"+SG_D+\"_\"+cycle+\"_avg     = temp_grad_CAMs_avg/(len(temp_bestCases)-NaN_cnt)\")\n",
    "        exec(\"grad_CAMs_ATR_\"+SG_D+\"_\"+cycle+\"_avg_inv = temp_grad_CAMs_avg_inv/(len(temp_bestCases)-NaN_cnt)\")"
   ]
  },
  {
   "cell_type": "code",
   "execution_count": 22,
   "metadata": {},
   "outputs": [
    {
     "data": {
      "text/plain": [
       "(80, 435)"
      ]
     },
     "execution_count": 22,
     "metadata": {},
     "output_type": "execute_result"
    }
   ],
   "source": [
    "grad_CAMs_ATR_1D_180c_avg_inv.shape"
   ]
  },
  {
   "cell_type": "markdown",
   "metadata": {},
   "source": [
    ".\n",
    "\n",
    ".\n",
    "\n",
    ".\n",
    "\n",
    ".\n",
    "\n",
    "."
   ]
  },
  {
   "cell_type": "markdown",
   "metadata": {},
   "source": [
    "### [ATR] Grad CAM - 0 cycle"
   ]
  },
  {
   "cell_type": "code",
   "execution_count": 62,
   "metadata": {},
   "outputs": [
    {
     "data": {
      "image/png": "[encoded data removed]",
      "text/plain": [
       "<Figure size 648x432 with 2 Axes>"
      ]
     },
     "metadata": {
      "needs_background": "light"
     },
     "output_type": "display_data"
    }
   ],
   "source": [
    "SG_D  = 2\n",
    "Cycle = 180\n",
    "\n",
    "exec(\"Grad_CAMs_inv = grad_CAMs_ATR_%dD_%dc_avg_inv\"%(SG_D, Cycle))\n",
    "\n",
    "plt.figure(figsize=(9,6))\n",
    "\n",
    "ax1 = sns.heatmap(Grad_CAMs_inv, annot=False, cmap='Reds', linecolor='white',\n",
    "                 vmin=0, vmax=1, xticklabels=False, yticklabels=False)\n",
    "\n",
    "# ax.set_title('[ATR] Grad CAM - 0 cycle', fontsize=20)\n",
    "ax1.set_ylabel('Data No (96 ~ 1)', fontsize=15)\n",
    "ax1.set_xlabel('Pixel of feature map (435 ~ 1)', fontsize=15)\n",
    "\n",
    "plt.savefig('Grad_CAM/ATR/[ATR, SG-%dD] %d cycle.png'%(SG_D, Cycle))\n",
    "plt.show()"
   ]
  },
  {
   "cell_type": "code",
   "execution_count": 63,
   "metadata": {},
   "outputs": [
    {
     "data": {
      "image/png": "[encoded data removed]",
      "text/plain": [
       "<Figure size 648x360 with 1 Axes>"
      ]
     },
     "metadata": {
      "needs_background": "light"
     },
     "output_type": "display_data"
    }
   ],
   "source": [
    "exec(\"Grad_CAMs = grad_CAMs_ATR_%dD_%dc_avg\"%(SG_D, Cycle))\n",
    "mean_contribution = Grad_CAMs.mean(axis=0)\n",
    "\n",
    "wavenumber = np.arange(648, 4000, 7.71)\n",
    "\n",
    "plt.figure(figsize=(9,5))\n",
    "\n",
    "ax = sns.barplot(x=wavenumber, y=mean_contribution, color='tab:red')\n",
    "plt.xlabel('\\nWavenumber (cm$^-$$^1$)', fontsize=15)\n",
    "plt.ylabel('Class importance', fontsize=15)\n",
    "plt.xticks(ticks=[]) \n",
    "plt.gca().invert_xaxis()\n",
    "# plt.ylim([-0.01, 0.82])\n",
    "plt.grid(alpha=0.3)\n",
    "\n",
    "plt.savefig('Grad_CAM/ATR/[ATR, SG-%dD] %d cycle -wavenumber.png'%(SG_D, Cycle))\n",
    "plt.show()"
   ]
  },
  {
   "cell_type": "code",
   "execution_count": 64,
   "metadata": {},
   "outputs": [
    {
     "data": {
      "image/png": "[encoded data removed]",
      "text/plain": [
       "<Figure size 648x360 with 1 Axes>"
      ]
     },
     "metadata": {
      "needs_background": "light"
     },
     "output_type": "display_data"
    }
   ],
   "source": [
    "exec(\"Grad_CAMs = grad_CAMs_ATR_%dD_%dc_avg\"%(SG_D, Cycle))\n",
    "mean_contribution = Grad_CAMs.mean(axis=0)\n",
    "\n",
    "wavenumber = np.arange(648, 4000, 7.71)\n",
    "\n",
    "plt.figure(figsize=(9,5))\n",
    "\n",
    "ax = sns.barplot(x=wavenumber, y=mean_contribution, color='tab:red')\n",
    "plt.xlabel('\\nWavenumber (cm$^-$$^1$)', fontsize=15)\n",
    "plt.ylabel('Class importance', fontsize=15)\n",
    "plt.xticks(ticks=[]) \n",
    "plt.gca().invert_xaxis()\n",
    "plt.ylim([0, 1])\n",
    "plt.grid(alpha=0.3)\n",
    "\n",
    "plt.savefig('Grad_CAM/ATR/(Scaled)/[ATR, SG-%dD](Scaled) %d cycle -wavenumber.png'%(SG_D, Cycle))\n",
    "plt.show()"
   ]
  },
  {
   "cell_type": "markdown",
   "metadata": {},
   "source": [
    ".\n",
    "\n",
    ".\n",
    "\n",
    ".\n",
    "\n",
    ".\n",
    "\n",
    ".\n",
    "\n",
    ".\n",
    "\n",
    ".\n",
    "\n",
    ".\n",
    "\n",
    "."
   ]
  },
  {
   "cell_type": "markdown",
   "metadata": {},
   "source": [
    "# Grad CAM 함수 세부검토"
   ]
  },
  {
   "cell_type": "code",
   "execution_count": null,
   "metadata": {},
   "outputs": [],
   "source": [
    "pd.set_option('display.max_rows',    500)      # DataFrame 데이터 확인 시 최대 표시 행 수\n",
    "pd.set_option('display.max_columns', 100)      # DataFrame 데이터 확인 시 최대 표시 열 수"
   ]
  },
  {
   "cell_type": "code",
   "execution_count": null,
   "metadata": {},
   "outputs": [],
   "source": [
    "pd.DataFrame(grad_CAMs_ATR_0D_0c_avg)"
   ]
  },
  {
   "cell_type": "markdown",
   "metadata": {},
   "source": [
    "#### 데이터 지정"
   ]
  },
  {
   "cell_type": "code",
   "execution_count": null,
   "metadata": {},
   "outputs": [],
   "source": [
    "SG_D  = 0\n",
    "idx   = 10\n",
    "\n",
    "exec(\"sample = ATR_SG_%dD[%d]\"%(SG_D, idx))\n",
    "sample = sample.reshape(1, sample.shape[0], sample.shape[1])\n",
    "sample"
   ]
  },
  {
   "cell_type": "markdown",
   "metadata": {},
   "source": [
    "#### 함수 파라미터 지정"
   ]
  },
  {
   "cell_type": "code",
   "execution_count": null,
   "metadata": {},
   "outputs": [],
   "source": [
    "data                 = sample\n",
    "model                = model_ATR_0D_6\n",
    "last_conv_layer_name = last_conv_layer_0D_6\n",
    "pred_index           = None"
   ]
  },
  {
   "cell_type": "markdown",
   "metadata": {},
   "source": [
    "#### grad_model : 입력값에 대한 지정레이어까지의 출력값 및 모델 예측값 출력\n",
    "\n",
    "First, we create a model that maps the input image to the activations of the last conv layer as well as the output predictions"
   ]
  },
  {
   "cell_type": "code",
   "execution_count": null,
   "metadata": {},
   "outputs": [],
   "source": [
    "grad_model = tf.keras.models.Model([model.inputs], [model.get_layer(last_conv_layer_name).output, model.output])\n",
    "grad_model.summary()"
   ]
  },
  {
   "cell_type": "code",
   "execution_count": null,
   "metadata": {},
   "outputs": [],
   "source": [
    "grad_model.layers[-1].activation = tf.keras.activations.linear"
   ]
  },
  {
   "cell_type": "markdown",
   "metadata": {},
   "source": [
    "#### class_channel : 입력값에 대한 모델이 분류한 클래스의 스코어\n",
    "\n",
    "Then, we compute the gradient of the top predicted class for our input image with respect to the activations of the last conv layer"
   ]
  },
  {
   "cell_type": "code",
   "execution_count": null,
   "metadata": {},
   "outputs": [],
   "source": [
    "with tf.GradientTape() as tape:\n",
    "    last_conv_layer_output, preds = grad_model(data)\n",
    "    if pred_index is None:\n",
    "        pred_index = tf.argmax(preds[0])\n",
    "    class_channel = preds[:, pred_index]\n",
    "#     if class_channel.numpy()[0] == 1:\n",
    "#         class_channel = class_channel-0.000001\n",
    "    \n",
    "class_channel"
   ]
  },
  {
   "cell_type": "markdown",
   "metadata": {},
   "source": [
    "#### grads : GradientTape 통해 마지막 컨볼루션 레이어 feature map들의 각 요소들로부터 분류 클래스 사이의 weight 계산\n",
    "\n",
    "This is the gradient of the output neuron (top predicted or chosen) with regard to the output feature map of the last conv layer"
   ]
  },
  {
   "cell_type": "code",
   "execution_count": null,
   "metadata": {},
   "outputs": [],
   "source": [
    "grads = tape.gradient(class_channel, last_conv_layer_output)\n",
    "print(grads.numpy().shape)\n",
    "# grads.numpy()"
   ]
  },
  {
   "cell_type": "markdown",
   "metadata": {},
   "source": [
    "#### pooled_grads : 각 feature map 별 weight 평균\n",
    "This is a vector where each entry is the mean intensity of the gradient over a specific feature map channel"
   ]
  },
  {
   "cell_type": "code",
   "execution_count": null,
   "metadata": {},
   "outputs": [],
   "source": [
    "pooled_grads = tf.reduce_mean(grads, axis=(0, 1))\n",
    "print(pooled_grads.numpy().shape)\n",
    "# pooled_grads.numpy()"
   ]
  },
  {
   "cell_type": "markdown",
   "metadata": {},
   "source": [
    "#### last_conv_layer_output : 마지막 컨볼루션 레이어의 feature maps\n",
    "We multiply each channel in the feature map array by \"how important this channel is\" with regard to the top predicted class,\n",
    "then sum all the channels to obtain the heatmap class activation"
   ]
  },
  {
   "cell_type": "code",
   "execution_count": null,
   "metadata": {},
   "outputs": [],
   "source": [
    "last_conv_layer_output = last_conv_layer_output[0]\n",
    "print(last_conv_layer_output.numpy().shape)\n",
    "# last_conv_layer_output.numpy()"
   ]
  },
  {
   "cell_type": "markdown",
   "metadata": {},
   "source": [
    "#### last_conv_layer_output 및 pooled_grads 행렬곱"
   ]
  },
  {
   "cell_type": "code",
   "execution_count": null,
   "metadata": {
    "scrolled": true
   },
   "outputs": [],
   "source": [
    "heatmap = last_conv_layer_output @ pooled_grads[..., tf.newaxis]\n",
    "print(heatmap.numpy().shape)\n",
    "heatmap.numpy()"
   ]
  },
  {
   "cell_type": "markdown",
   "metadata": {},
   "source": [
    "#### tf.squeeze : 1개 요소 가진 배열 차원 제거"
   ]
  },
  {
   "cell_type": "code",
   "execution_count": null,
   "metadata": {
    "scrolled": true
   },
   "outputs": [],
   "source": [
    "heatmap = tf.squeeze(heatmap)\n",
    "print(heatmap.numpy().shape)\n",
    "heatmap.numpy()"
   ]
  },
  {
   "cell_type": "markdown",
   "metadata": {},
   "source": [
    "#### ReLU (0보다 작은 weight 제거) 및 스케일링 (최대값으로 나눠 0~1 min-Max)\n",
    "For visualization purpose, we will also normalize the heatmap between 0 & 1"
   ]
  },
  {
   "cell_type": "code",
   "execution_count": null,
   "metadata": {
    "scrolled": true
   },
   "outputs": [],
   "source": [
    "heatmap = tf.maximum(heatmap, 0) / tf.math.reduce_max(heatmap)\n",
    "print(heatmap.numpy().shape)\n",
    "heatmap.numpy()"
   ]
  },
  {
   "cell_type": "code",
   "execution_count": null,
   "metadata": {},
   "outputs": [],
   "source": []
  }
 ],
 "metadata": {
  "kernelspec": {
   "display_name": "Python 3",
   "language": "python",
   "name": "python3"
  },
  "language_info": {
   "codemirror_mode": {
    "name": "ipython",
    "version": 3
   },
   "file_extension": ".py",
   "mimetype": "text/x-python",
   "name": "python",
   "nbconvert_exporter": "python",
   "pygments_lexer": "ipython3",
   "version": "3.8.8"
  }
 },
 "nbformat": 4,
 "nbformat_minor": 4
}
